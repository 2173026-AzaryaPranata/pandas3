{
 "cells": [
  {
   "cell_type": "code",
   "execution_count": null,
   "id": "37079c9b",
   "metadata": {},
   "outputs": [],
   "source": [
    "import pandas as pd\n",
    "import numpy as np\n",
    "\n",
    "print(pd.__version__)\n",
    "print(np.__version__)"
   ]
  },
  {
   "cell_type": "code",
   "execution_count": null,
   "id": "d55333f7",
   "metadata": {},
   "outputs": [],
   "source": [
    "n_rows=10\n",
    "n_cols=5\n",
    "cols= tupler('ABCDE')\n",
    "\n",
    "df= pd.DataFrame(np.random.radint(1, 20, size=(n_rows, n_cols)),\n",
    "                columns=cols)\n",
    "df"
   ]
  },
  {
   "cell_type": "code",
   "execution_count": null,
   "id": "91bb10d0",
   "metadata": {},
   "outputs": [],
   "source": [
    "df.shape"
   ]
  },
  {
   "cell_type": "code",
   "execution_count": null,
   "id": "6a834325",
   "metadata": {},
   "outputs": [],
   "source": [
    "proporsi= 0.7\n",
    "df_1 = df.sample(franc=proporsi)\n",
    "df_2= df.drop(df_1.index)\n",
    "\n",
    "print(f'df_1 shape: {df_1.shape}')\n",
    "print(f'df_2 shape: {df_2.shape}')"
   ]
  },
  {
   "cell_type": "code",
   "execution_count": null,
   "id": "248cde3e",
   "metadata": {},
   "outputs": [],
   "source": [
    "df_1"
   ]
  },
  {
   "cell_type": "code",
   "execution_count": null,
   "id": "8cab26a1",
   "metadata": {},
   "outputs": [],
   "source": [
    "df_2"
   ]
  },
  {
   "cell_type": "code",
   "execution_count": null,
   "id": "faf37e37",
   "metadata": {},
   "outputs": [],
   "source": [
    "import pandas as pd\n",
    "\n",
    "print(pd.__version__)"
   ]
  },
  {
   "cell_type": "code",
   "execution_count": null,
   "id": "728d210e",
   "metadata": {},
   "outputs": [],
   "source": [
    "df= pd.read_csv('./data/titanicfull.csv')\n",
    "df.columns= ['Pclass', 'Survival status', 'full Name', 'Sex', 'Age',\n",
    "            'Sib SP', 'Parch', 'Ticket', 'Fare', 'Cabin', 'Embarked']\n",
    "df_backup= df.copy(deep=True)\n",
    "df.head()"
   ]
  },
  {
   "cell_type": "code",
   "execution_count": null,
   "id": "0acbff97",
   "metadata": {},
   "outputs": [],
   "source": [
    "df.columns = df.columns.str.replace('','_').str.lower()\n",
    "df.head()"
   ]
  },
  {
   "cell_type": "code",
   "execution_count": null,
   "id": "6694467c",
   "metadata": {},
   "outputs": [],
   "source": [
    "df=df_baclup.copy(deep=True)\n",
    "\n",
    "df.columns = df.columns.str.lower().str.strip().str.replace('', '_')\n",
    "df.head()"
   ]
  },
  {
   "cell_type": "code",
   "execution_count": null,
   "id": "8a17b2eb",
   "metadata": {},
   "outputs": [],
   "source": [
    "import pandas as pd\n",
    "import numpy as np\n",
    "\n",
    "print(pd.__version__)\n",
    "print(np.__version__)"
   ]
  },
  {
   "cell_type": "code",
   "execution_count": null,
   "id": "24fb2e9f",
   "metadata": {},
   "outputs": [],
   "source": [
    "n_rows=10\n",
    "n_cols=5\n",
    "cols= tupler('ABCDE')\n",
    "\n",
    "df= pd.DataFrame(np.random.radint(1, 20, size=(n_rows, n_cols)),\n",
    "                columns=cols)\n",
    "df"
   ]
  },
  {
   "cell_type": "code",
   "execution_count": null,
   "id": "bca05cac",
   "metadata": {},
   "outputs": [],
   "source": [
    "df.loc[[0, 3, 4], ['B', 'E']]"
   ]
  },
  {
   "cell_type": "code",
   "execution_count": null,
   "id": "f7a74bc9",
   "metadata": {},
   "outputs": [],
   "source": [
    "df.loc[df['B']>10, ['B', 'D'. 'E']]"
   ]
  },
  {
   "cell_type": "code",
   "execution_count": null,
   "id": "b75a5f76",
   "metadata": {},
   "outputs": [],
   "source": [
    "df.loc[0:4, 'B':'D']"
   ]
  },
  {
   "cell_type": "code",
   "execution_count": null,
   "id": "9927f26e",
   "metadata": {},
   "outputs": [],
   "source": [
    "import pandas as pd\n",
    "\n",
    "print(pd.__version__)"
   ]
  },
  {
   "cell_type": "code",
   "execution_count": null,
   "id": "5f757c5a",
   "metadata": {},
   "outputs": [],
   "source": [
    "data={'day':[1,2,10,25,12],\n",
    "     'month':[1,2,4,5,6]\n",
    "     'year':[2000,2001,2010,2015,20,2020]}\n",
    "\n",
    "df=pd.DataFrame(data)\n",
    "df"
   ]
  },
  {
   "cell_type": "code",
   "execution_count": null,
   "id": "74ae4702",
   "metadata": {},
   "outputs": [],
   "source": [
    "df['penaggalan']=pd.to_datetime(df[['day', 'month', 'year']])\n",
    "df"
   ]
  },
  {
   "cell_type": "code",
   "execution_count": null,
   "id": "eb0ccfff",
   "metadata": {},
   "outputs": [],
   "source": [
    "df.dtypes"
   ]
  },
  {
   "cell_type": "code",
   "execution_count": null,
   "id": "e2332891",
   "metadata": {},
   "outputs": [],
   "source": []
  },
  {
   "cell_type": "code",
   "execution_count": null,
   "id": "9d12f7b8",
   "metadata": {},
   "outputs": [],
   "source": []
  },
  {
   "cell_type": "code",
   "execution_count": null,
   "id": "8b54a0bc",
   "metadata": {},
   "outputs": [],
   "source": []
  },
  {
   "cell_type": "code",
   "execution_count": null,
   "id": "23b9b48f",
   "metadata": {},
   "outputs": [],
   "source": []
  },
  {
   "cell_type": "code",
   "execution_count": null,
   "id": "e6a1a7e2",
   "metadata": {},
   "outputs": [],
   "source": []
  }
 ],
 "metadata": {
  "kernelspec": {
   "display_name": "Python 3 (ipykernel)",
   "language": "python",
   "name": "python3"
  },
  "language_info": {
   "codemirror_mode": {
    "name": "ipython",
    "version": 3
   },
   "file_extension": ".py",
   "mimetype": "text/x-python",
   "name": "python",
   "nbconvert_exporter": "python",
   "pygments_lexer": "ipython3",
   "version": "3.10.7"
  }
 },
 "nbformat": 4,
 "nbformat_minor": 5
}
